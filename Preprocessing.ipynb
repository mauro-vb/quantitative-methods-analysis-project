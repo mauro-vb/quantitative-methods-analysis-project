{
 "cells": [
  {
   "cell_type": "markdown",
   "id": "06f11de2",
   "metadata": {},
   "source": [
    "# Preprocessing Pipeline"
   ]
  },
  {
   "cell_type": "code",
   "execution_count": 1,
   "id": "ac7cfca3",
   "metadata": {},
   "outputs": [],
   "source": [
    "# necessary imports\n",
    "import pandas as pd\n",
    "import os\n",
    "import seaborn as sns"
   ]
  },
  {
   "cell_type": "markdown",
   "id": "9d0bf48a",
   "metadata": {},
   "source": [
    "## Data Extraction"
   ]
  },
  {
   "cell_type": "code",
   "execution_count": 31,
   "id": "388cb7c3",
   "metadata": {},
   "outputs": [],
   "source": [
    "# Methods and  lists for data  extraction\n",
    "\n",
    "def df_to_timeseries(df, timestamp_col=\"timestamp\"):\n",
    "    df[timestamp_col] = pd.to_datetime(df[timestamp_col], unit=\"ms\") # convert timestamp to datetime\n",
    "    df.set_index(timestamp_col,inplace=True) # set it as index for TimeSeries purposes\n",
    "    df = df.tz_localize(\"UTC\") # need to localize a timezone\n",
    "    df = df.tz_convert(\"Asia/Seoul\") # convert it to Korean timezone\n",
    "    return df\n",
    "\n",
    "column_names = [\"app_name\", \"app_category\", \"ambietal_brightness\", \"uv_intensity\", \"longitude\", \"latitude\",\"altitude\"]\n",
    "entertainment_categories = ['SOCIAL','SHOPPING','BOOKS_AND_REFERENCE',\n",
    "                            'COMICS','MUSIC_AND_AUDIO', 'GAME','ENTERTAINMENT','VIDEO_PLAYERS', \n",
    "                            'SPORTS', 'LIBRARIES_AND_DEMO','NEWS_AND_MAGAZINES']#'COMMUNICATION'?"
   ]
  },
  {
   "cell_type": "code",
   "execution_count": 41,
   "id": "8ec18dd6",
   "metadata": {},
   "outputs": [],
   "source": [
    "data_dir = os.path.join(os.getcwd() , \"data\")\n",
    "data_files = [f\"{name}.csv\" for name in [\"AppUsageEvent\", \"Location\", \"AmbientLight\", \"UltraViolet\"]]\n",
    "P = {} # Dictionary that'll contain all participant data\n",
    "\n",
    "for p_code in os.listdir(data_dir):\n",
    "    if p_code.startswith(\"P\"): # Only get Participant Directories\n",
    "        pn = int(p_code[1:])\n",
    "        \n",
    "        # get tables (and columns) of interest\n",
    "        app_df = df_to_timeseries(pd.read_csv(os.path.join(data_dir,p_code, \"AppUsageEvent.csv\")))[[\"name\",\"category\"]]\n",
    "        app_df = app_df[app_df[\"category\"].isin(entertainment_categories)] # filter for entertainment related apps only\n",
    "        amb_df = df_to_timeseries(pd.read_csv(os.path.join(data_dir,p_code, \"AmbientLight.csv\")))\n",
    "        uv_df = df_to_timeseries(pd.read_csv(os.path.join(data_dir,p_code, \"UltraViolet.csv\")))[[\"intensity\"]]\n",
    "        loc_df = df_to_timeseries(pd.read_csv(os.path.join(data_dir,p_code, \"Location.csv\")))\n",
    "        loc_df = loc_df[loc_df[\"accuracy\"] < 20][[\"longitude\",\"latitude\",\"altitude\"]].round(4) # remove innacurate readings and reduce precision to 11m\n",
    "        # merge using merge_asof (we match on nearest timestamp rather than equal timestamps)\n",
    "        joined_df = pd.merge_asof(app_df, amb_df, left_index=True,right_index=True)\n",
    "        joined_df = pd.merge_asof(joined_df, uv_df, left_index=True,right_index=True)\n",
    "        joined_df = pd.merge_asof(joined_df, loc_df, left_index=True,right_index=True)\n",
    "        joined_df.columns = column_names\n",
    "        \n",
    "        # remove duplicates and nan values\n",
    "        df = joined_df.drop_duplicates().dropna()\n",
    "        \n",
    "        P[pn] = joined_df"
   ]
  },
  {
   "cell_type": "code",
   "execution_count": 42,
   "id": "405b73c1",
   "metadata": {},
   "outputs": [
    {
     "data": {
      "text/html": [
       "<div>\n",
       "<style scoped>\n",
       "    .dataframe tbody tr th:only-of-type {\n",
       "        vertical-align: middle;\n",
       "    }\n",
       "\n",
       "    .dataframe tbody tr th {\n",
       "        vertical-align: top;\n",
       "    }\n",
       "\n",
       "    .dataframe thead th {\n",
       "        text-align: right;\n",
       "    }\n",
       "</style>\n",
       "<table border=\"1\" class=\"dataframe\">\n",
       "  <thead>\n",
       "    <tr style=\"text-align: right;\">\n",
       "      <th></th>\n",
       "      <th>app_name</th>\n",
       "      <th>app_category</th>\n",
       "      <th>ambietal_brightness</th>\n",
       "      <th>uv_intensity</th>\n",
       "      <th>longitude</th>\n",
       "      <th>latitude</th>\n",
       "      <th>altitude</th>\n",
       "    </tr>\n",
       "    <tr>\n",
       "      <th>timestamp</th>\n",
       "      <th></th>\n",
       "      <th></th>\n",
       "      <th></th>\n",
       "      <th></th>\n",
       "      <th></th>\n",
       "      <th></th>\n",
       "      <th></th>\n",
       "    </tr>\n",
       "  </thead>\n",
       "  <tbody>\n",
       "    <tr>\n",
       "      <th>2019-05-14 02:09:36.165000+09:00</th>\n",
       "      <td>트위터</td>\n",
       "      <td>SOCIAL</td>\n",
       "      <td>18.0</td>\n",
       "      <td>NONE</td>\n",
       "      <td>34.3178</td>\n",
       "      <td>36.3738</td>\n",
       "      <td>95.5000</td>\n",
       "    </tr>\n",
       "    <tr>\n",
       "      <th>2019-05-11 17:03:37.837000+09:00</th>\n",
       "      <td>트위터</td>\n",
       "      <td>SOCIAL</td>\n",
       "      <td>16.0</td>\n",
       "      <td>NONE</td>\n",
       "      <td>33.9301</td>\n",
       "      <td>35.9564</td>\n",
       "      <td>60.5000</td>\n",
       "    </tr>\n",
       "    <tr>\n",
       "      <th>2019-05-09 19:11:37.273000+09:00</th>\n",
       "      <td>트위터</td>\n",
       "      <td>SOCIAL</td>\n",
       "      <td>3.0</td>\n",
       "      <td>NONE</td>\n",
       "      <td>34.3178</td>\n",
       "      <td>36.3738</td>\n",
       "      <td>91.5000</td>\n",
       "    </tr>\n",
       "    <tr>\n",
       "      <th>2019-05-11 17:33:55.113000+09:00</th>\n",
       "      <td>트위터</td>\n",
       "      <td>SOCIAL</td>\n",
       "      <td>16.0</td>\n",
       "      <td>NONE</td>\n",
       "      <td>33.9301</td>\n",
       "      <td>35.9564</td>\n",
       "      <td>60.5000</td>\n",
       "    </tr>\n",
       "    <tr>\n",
       "      <th>2019-05-08 13:48:08.387000+09:00</th>\n",
       "      <td>트위터</td>\n",
       "      <td>SOCIAL</td>\n",
       "      <td>414.0</td>\n",
       "      <td>NONE</td>\n",
       "      <td>34.3178</td>\n",
       "      <td>36.3738</td>\n",
       "      <td>91.6000</td>\n",
       "    </tr>\n",
       "    <tr>\n",
       "      <th>2019-05-11 20:52:13.814000+09:00</th>\n",
       "      <td>트위터</td>\n",
       "      <td>SOCIAL</td>\n",
       "      <td>15.0</td>\n",
       "      <td>NONE</td>\n",
       "      <td>33.9301</td>\n",
       "      <td>35.9564</td>\n",
       "      <td>60.5000</td>\n",
       "    </tr>\n",
       "    <tr>\n",
       "      <th>2019-05-14 13:31:34.279000+09:00</th>\n",
       "      <td>트위터</td>\n",
       "      <td>SOCIAL</td>\n",
       "      <td>18.0</td>\n",
       "      <td>NONE</td>\n",
       "      <td>34.3160</td>\n",
       "      <td>36.3635</td>\n",
       "      <td>74.2000</td>\n",
       "    </tr>\n",
       "    <tr>\n",
       "      <th>2019-05-11 12:55:54.096000+09:00</th>\n",
       "      <td>트위터</td>\n",
       "      <td>SOCIAL</td>\n",
       "      <td>11.0</td>\n",
       "      <td>NONE</td>\n",
       "      <td>33.9302</td>\n",
       "      <td>35.9567</td>\n",
       "      <td>34.3658</td>\n",
       "    </tr>\n",
       "    <tr>\n",
       "      <th>2019-05-12 12:01:56.259000+09:00</th>\n",
       "      <td>트위터</td>\n",
       "      <td>SOCIAL</td>\n",
       "      <td>0.0</td>\n",
       "      <td>NONE</td>\n",
       "      <td>33.9301</td>\n",
       "      <td>35.9564</td>\n",
       "      <td>60.5000</td>\n",
       "    </tr>\n",
       "    <tr>\n",
       "      <th>2019-05-12 01:41:35.900000+09:00</th>\n",
       "      <td>트위터</td>\n",
       "      <td>SOCIAL</td>\n",
       "      <td>0.0</td>\n",
       "      <td>NONE</td>\n",
       "      <td>33.9301</td>\n",
       "      <td>35.9564</td>\n",
       "      <td>60.5000</td>\n",
       "    </tr>\n",
       "  </tbody>\n",
       "</table>\n",
       "</div>"
      ],
      "text/plain": [
       "                                 app_name app_category  ambietal_brightness  \\\n",
       "timestamp                                                                     \n",
       "2019-05-14 02:09:36.165000+09:00      트위터       SOCIAL                 18.0   \n",
       "2019-05-11 17:03:37.837000+09:00      트위터       SOCIAL                 16.0   \n",
       "2019-05-09 19:11:37.273000+09:00      트위터       SOCIAL                  3.0   \n",
       "2019-05-11 17:33:55.113000+09:00      트위터       SOCIAL                 16.0   \n",
       "2019-05-08 13:48:08.387000+09:00      트위터       SOCIAL                414.0   \n",
       "2019-05-11 20:52:13.814000+09:00      트위터       SOCIAL                 15.0   \n",
       "2019-05-14 13:31:34.279000+09:00      트위터       SOCIAL                 18.0   \n",
       "2019-05-11 12:55:54.096000+09:00      트위터       SOCIAL                 11.0   \n",
       "2019-05-12 12:01:56.259000+09:00      트위터       SOCIAL                  0.0   \n",
       "2019-05-12 01:41:35.900000+09:00      트위터       SOCIAL                  0.0   \n",
       "\n",
       "                                 uv_intensity  longitude  latitude  altitude  \n",
       "timestamp                                                                     \n",
       "2019-05-14 02:09:36.165000+09:00         NONE    34.3178   36.3738   95.5000  \n",
       "2019-05-11 17:03:37.837000+09:00         NONE    33.9301   35.9564   60.5000  \n",
       "2019-05-09 19:11:37.273000+09:00         NONE    34.3178   36.3738   91.5000  \n",
       "2019-05-11 17:33:55.113000+09:00         NONE    33.9301   35.9564   60.5000  \n",
       "2019-05-08 13:48:08.387000+09:00         NONE    34.3178   36.3738   91.6000  \n",
       "2019-05-11 20:52:13.814000+09:00         NONE    33.9301   35.9564   60.5000  \n",
       "2019-05-14 13:31:34.279000+09:00         NONE    34.3160   36.3635   74.2000  \n",
       "2019-05-11 12:55:54.096000+09:00         NONE    33.9302   35.9567   34.3658  \n",
       "2019-05-12 12:01:56.259000+09:00         NONE    33.9301   35.9564   60.5000  \n",
       "2019-05-12 01:41:35.900000+09:00         NONE    33.9301   35.9564   60.5000  "
      ]
     },
     "execution_count": 42,
     "metadata": {},
     "output_type": "execute_result"
    }
   ],
   "source": [
    "# Example of a table\n",
    "P[7].sample(10)"
   ]
  },
  {
   "cell_type": "code",
   "execution_count": 38,
   "id": "5372d9db",
   "metadata": {},
   "outputs": [
    {
     "data": {
      "image/png": "[encoded data removed]",
      "text/plain": [
       "<Figure size 640x480 with 1 Axes>"
      ]
     },
     "metadata": {},
     "output_type": "display_data"
    }
   ],
   "source": [
    "category_counts = P[10]['app_category'].value_counts()\n",
    "sns.barplot(x=category_counts.index, y=category_counts.values);"
   ]
  },
  {
   "cell_type": "code",
   "execution_count": 40,
   "id": "ef3c7047",
   "metadata": {},
   "outputs": [
    {
     "data": {
      "text/plain": [
       "Index(['app_name', 'app_category', 'ambietal_brightness', 'uv_intensity',\n",
       "       'longitude', 'latitude', 'altitude'],\n",
       "      dtype='object')"
      ]
     },
     "execution_count": 40,
     "metadata": {},
     "output_type": "execute_result"
    }
   ],
   "source": [
    "P[1].columns"
   ]
  },
  {
   "cell_type": "code",
   "execution_count": null,
   "id": "8da001a1",
   "metadata": {},
   "outputs": [],
   "source": []
  }
 ],
 "metadata": {
  "kernelspec": {
   "display_name": "Python 3 (ipykernel)",
   "language": "python",
   "name": "python3"
  },
  "language_info": {
   "codemirror_mode": {
    "name": "ipython",
    "version": 3
   },
   "file_extension": ".py",
   "mimetype": "text/x-python",
   "name": "python",
   "nbconvert_exporter": "python",
   "pygments_lexer": "ipython3",
   "version": "3.10.6"
  },
  "toc": {
   "base_numbering": 1,
   "nav_menu": {},
   "number_sections": true,
   "sideBar": true,
   "skip_h1_title": false,
   "title_cell": "Table of Contents",
   "title_sidebar": "Contents",
   "toc_cell": false,
   "toc_position": {},
   "toc_section_display": true,
   "toc_window_display": false
  }
 },
 "nbformat": 4,
 "nbformat_minor": 5
}
