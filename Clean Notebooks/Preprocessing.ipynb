{
 "cells": [
  {
   "cell_type": "code",
   "execution_count": 1,
   "id": "eba0580b",
   "metadata": {},
   "outputs": [],
   "source": [
    "# necessary imports\n",
    "import pandas as pd\n",
    "import numpy as np\n",
    "import os"
   ]
  },
  {
   "cell_type": "markdown",
   "id": "56535a77",
   "metadata": {},
   "source": [
    "## Data Manipulation and Extraction"
   ]
  },
  {
   "cell_type": "markdown",
   "id": "5c0084b5",
   "metadata": {
    "heading_collapsed": true
   },
   "source": [
    "### Table and column selection"
   ]
  },
  {
   "cell_type": "markdown",
   "id": "a7b7d401",
   "metadata": {
    "hidden": true
   },
   "source": [
    "Tables and respective fields needed:\n",
    "- Smartphone Data:\n",
    "    - AppUsageEvent, containing all the necessary information of apps used\n",
    "        - name\n",
    "        - category\n",
    "    - Location, containing the coordinates to be able to determine where apps were used\n",
    "        - longitude\n",
    "        - latitude\n",
    "- Wearable Smartwatch Data: \n",
    "    - AmbientLight, the light intensity in lumen per square meter\n",
    "        - brightness\n",
    "- Self reported emotional and cognitive states Data\n",
    "    - EsmResponse\n",
    "        - stress\n",
    "        - valence\n",
    "        - arousal\n",
    "        - attention\n",
    "        - pcode (participant number)"
   ]
  },
  {
   "cell_type": "code",
   "execution_count": 2,
   "id": "40b5eaa8",
   "metadata": {
    "hidden": true
   },
   "outputs": [],
   "source": [
    "data_dir = os.path.join(\"..\",\"data\")\n",
    "\n",
    "# Smartphone and Smartwatch data\n",
    "table_names = [\"AppUsageEvent\", \"Location\", \"AmbientLight\", \"UltraViolet\"]\n",
    "data_files = [f\"{name}.csv\" for name in table_names]\n",
    "column_names = [\"app_name\", \"app_category\", \"brightness\", \"uv_intensity\", \"longitude\", \"latitude\"]\n",
    "# ESM response data\n",
    "esm_path = os.path.join(data_dir,\"SubjData\",\"EsmResponse.csv\")"
   ]
  },
  {
   "cell_type": "markdown",
   "id": "b63542b4",
   "metadata": {},
   "source": [
    "###  Functions used"
   ]
  },
  {
   "cell_type": "markdown",
   "id": "631e3515",
   "metadata": {
    "heading_collapsed": true
   },
   "source": [
    "#### To TimeSeries\n",
    "\n",
    "This step is **crucial** to our preprocessing as it allows us to merge the different tables used to one another by using the merge_asof pandas method (which matches on nearest timestamp). It is also important for determining big gaps in the data (see *Getting home coordinates* Section).\n",
    "\n",
    "- Converting timestamps to pandas.datetime objects \n",
    "- Using datetime objects as dataframe index for TimeSeries purposes\n",
    "- Converting index to Korean timezone"
   ]
  },
  {
   "cell_type": "code",
   "execution_count": 3,
   "id": "1cd3b11b",
   "metadata": {
    "hidden": true
   },
   "outputs": [],
   "source": [
    "def df_to_timeseries(df, timestamp_col=\"timestamp\"):\n",
    "    df[timestamp_col] = pd.to_datetime(df[timestamp_col], unit=\"ms\") # convert timestamp to datetime\n",
    "    df.set_index(timestamp_col,inplace=True) # set it as index \n",
    "    df = df.tz_localize(\"UTC\") # need to localize a timezone\n",
    "    df = df.tz_convert(\"Asia/Seoul\") # convert it to Korean timezone\n",
    "    return df"
   ]
  },
  {
   "cell_type": "markdown",
   "id": "24b253e7",
   "metadata": {
    "heading_collapsed": true
   },
   "source": [
    "#### Feature Extraction *at_home*\n",
    "\n",
    "These methods helped us determine whether app-usage-events occurred at participants' home or not. During our data exploration when looking at participants' heart rate (HR), measured by the wearable smartwatch, we noticed there were around 7 big gaps in the HR data for each participant. Knowing that participants had to charge their wearable devices every night we deduced that getting the coordinates of the last and first data recordings before and after each data gap would give us the participants' home coordinates (we used the ambiental light table from the wearabale data, as we were already planning to use it).\n",
    "\n",
    "- Measures the time difference between each consecutive data recording \n",
    "- Identifies the ones with a time difference that exceeds 4 hours (assuming participants charged their wearable devices at night, when at home)\n",
    "- Finds the closest corresponding indices in the coordinates table and extracts the coordinates of each identified \"gap\"\n",
    "- Returns average (they may differ a bit, depending on the room where they took the wearable off) of the extracted coordinates\n",
    "\n",
    "- Used haversine distance function to determine how far each app-usage-event was performed from the determined home coordiantes "
   ]
  },
  {
   "cell_type": "code",
   "execution_count": 4,
   "id": "32d0a0c4",
   "metadata": {
    "hidden": true
   },
   "outputs": [],
   "source": [
    "def get_home_coor(amb_df,loc_df):\n",
    "    time_diff = amb_df.index.to_series().diff()\n",
    "    # Find indices where the time difference exceeds 4 hours\n",
    "    jump_indices = time_diff[time_diff > pd.Timedelta(hours=4)].index\n",
    "    closest_indices = {}\n",
    "    for jump_index in jump_indices:\n",
    "        indexer = loc_df.index.get_indexer([jump_index])\n",
    "        closest_index = loc_df.index[indexer[0]]\n",
    "        closest_indices[jump_index] = closest_index\n",
    "\n",
    "    # Extract values from other_df at the closest indices and get their average\n",
    "    return loc_df.loc[closest_indices.values()].mean()\n",
    "\n",
    "def haversine(lon1, lat1, lon2, lat2): # Returns haversine distance between two coordinates\n",
    "    lon1, lat1, lon2, lat2 = map(np.radians, [lon1, lat1, lon2, lat2])\n",
    "    dlon = lon2 - lon1\n",
    "    dlat = lat2 - lat1\n",
    "    a = np.sin(dlat/2)**2 + np.cos(lat1) * np.cos(lat2) * np.sin(dlon/2)**2\n",
    "    c = 2 * np.arcsin(np.sqrt(a))\n",
    "    km = 6371 * c\n",
    "    return km * 1000"
   ]
  },
  {
   "cell_type": "markdown",
   "id": "7ff22978",
   "metadata": {},
   "source": [
    "#### Determining Entertainment app categories\n",
    "\n",
    "The AppUsageEvent table contains a column called \"category\" which states the category of the application used. The values of this field were retrieved from Google Play and from application archive websites (i.e., https://apkcombo.com) for those that weren't available on Google Play, the rest were manually labeled (Kang et al., 2023). \n",
    "\n",
    "Categories left out:\n",
    "\n",
    "- PERSONALIZATION, COMMUNICATION, PHOTOGRAPHY, SYSTEM, FINANCE, TOOLS, PRODUCTIVITY, HEALTH_AND_FITNESS, TRAVEL_AND_LOCAL, MAPS_AND_NAVIGATION, LIFESTYLE, HOUSE_AND_HOME, ART_AND_DESIGN, FOOD_AND_DRINK, EDUCATION, BUSINESS, BEAUTY, AUTO_AND_VEHICLES, WEATHER\n",
    "- _LIBRARIES_AND_DEMO_ (After some data exploration, we decided to remove this category from our chosen ones as it contained only one app which was the participants' university platform) \n",
    "\n",
    "Categories chosen as Entertainment related:\n",
    "\n",
    "- **VIDEO_PLAYERS**,**MUSIC_AND_AUDIO**,**SOCIAL**, **GAME**, **SHOPPING**, **NEWS_AND_MAGAZINES**, **SPORTS**, **BOOKS_AND_REFERENCE**,**COMICS**\n",
    "- _**ENTERTAINMENT**_ (this category was too vague so we looked up what type of apps were included here and found apps that would correctly belong to other categories chosen, for example \"Netflix\" and other video players were moved to the VIDEO_PLAYER category, the same happened with some SHOPPING apps, BOOKS_AND_REFERENCE and SOCIAL)\n",
    "- _**MISC**_ (some apps from here were moved to COMICS and GAMES)\n",
    "\n",
    "Manually defined category\n",
    "- **GAME_RELATED** (many apps within the ENTERTAINMENT category were game related but were not games directly, this included game exchange platforms, game tools, game statistics, etc)\n"
   ]
  },
  {
   "cell_type": "markdown",
   "id": "cc749605",
   "metadata": {
    "heading_collapsed": true
   },
   "source": [
    "##### Create chosen categories list and mapping dictionary (collapsable)"
   ]
  },
  {
   "cell_type": "code",
   "execution_count": 5,
   "id": "dede9752",
   "metadata": {
    "hidden": true
   },
   "outputs": [],
   "source": [
    "entertainment_categories = ['SOCIAL','SHOPPING','BOOKS_AND_REFERENCE',\n",
    "                            'COMICS','MUSIC_AND_AUDIO', 'GAME','VIDEO_PLAYERS', \n",
    "                            'SPORTS','NEWS_AND_MAGAZINES','GAME_RELATED']\n",
    "\n",
    "app_name_to_new_category = {\n",
    "    'Netflix': 'VIDEO_PLAYER',\n",
    "    'AfreecaTV': 'VIDEO_PLAYER',\n",
    "    '카카오페이지': 'BOOKS_AND_REFERENCE',\n",
    "    'Google Play 게임': 'GAME_RELATED',\n",
    "    '롯데시네마': 'SHOPPING',\n",
    "    '네이버TV': 'VIDEO_PLAYER',\n",
    "    'Twitch': 'VIDEO_PLAYER',\n",
    "    '어드벤처': 'GAME',\n",
    "    'CGV': 'SHOPPING',\n",
    "    '연애의과학': 'BOOKS_AND_REFERENCE',\n",
    "    '팟빵': 'MUSIC_AND_AUDIO',\n",
    "    'U+모바일tv': 'VIDEO_PLAYER',\n",
    "    'TVING': 'VIDEO_PLAYER',\n",
    "    'JAM Live': 'VIDEO_PLAYER',\n",
    "    'CashLeaflet': 'SHOPPING',\n",
    "    '티켓링크': 'SHOPPING',\n",
    "    'Galaxy Apps': 'APP_STORE',\n",
    "    'LoL 상점': 'GAME_RELATED',\n",
    "    'OP.GG': 'GAME_RELATED',\n",
    "    'GGtics': 'GAME_RELATED',\n",
    "    'CGV포토티켓': 'SHOPPING',\n",
    "    'Prime Video': 'VIDEO_PLAYER',\n",
    "    '왓챠': 'VIDEO_PLAYER',\n",
    "    '인터파크 티켓': 'SHOPPING',\n",
    "    '왓챠플레이': 'VIDEO_PLAYER',\n",
    "    'Doctor Who': 'VIDEO_PLAYER',\n",
    "    '팝콘티비': 'VIDEO_PLAYER',\n",
    "    '얼굴인식 체험판': 'LIBRARIES_AND_DEMO',\n",
    "    '올레 tv 모바일': 'VIDEO_PLAYER',\n",
    "    '아이즈원 프라이빗 메일': 'VIDEO_PLAYER',\n",
    "    'V LIVE': 'VIDEO_PLAYER',\n",
    "    'FOW.KR': 'GAME_RELATED',\n",
    "    'Steam': 'GAME_RELATED',\n",
    "    '메가박스': 'SHOPPING',\n",
    "    'Nintendo Switch Online': 'GAME_RELATED',\n",
    "    '피키캐스트': 'SOCIAL_MEDIA',\n",
    "    'HTV 3.4.6': 'VIDEO_PLAYER',\n",
    "    'Q.Feat': 'VIDEO_PLAYER',\n",
    "    'WoW BfA Talent Calculator': 'GAME_RELATED',\n",
    "    '꽁음따 시즌4': 'GAME',\n",
    "    '프리스타일2:플라잉덩크': 'GAME',\n",
    "    'Hentoid': 'COMICS',\n",
    "}"
   ]
  },
  {
   "cell_type": "markdown",
   "id": "6cfe2dc8",
   "metadata": {
    "heading_collapsed": true
   },
   "source": [
    "##### Function to map apps to new categories"
   ]
  },
  {
   "cell_type": "code",
   "execution_count": 6,
   "id": "87eb24eb",
   "metadata": {
    "hidden": true
   },
   "outputs": [],
   "source": [
    "def map_entertainment_to_new_category(row):\n",
    "    if row[\"category\"] == \"ENTERTAINMENT\":\n",
    "        return app_name_to_new_category.get(row[\"name\"], \"ENTERTAINMENT\")\n",
    "    elif row[\"category\"] == \"MISC\":\n",
    "        return app_name_to_new_category.get(row[\"name\"], \"MISC\")\n",
    "    else:\n",
    "        return row[\"category\"]"
   ]
  },
  {
   "cell_type": "markdown",
   "id": "052ff730",
   "metadata": {},
   "source": [
    "#### Converting interval and continuous to categorical\n",
    "\n",
    "All of our dependent variables (stress, valence, arousal and attention) were in an interval form, the values ranged from −3 to +3 (from not stressed at all to very stressed, for example). For easier interpretation of the data we turned this interval data into binary data (stressed or not stressed for example). Our hope was to turn the results from the statistical analysis to be more intuitive and actionable.\n",
    "\n",
    "- **0** for values -3, -2, -1 and 0\n",
    "- **1** for values 1, 2, 3\n",
    "\n",
    "Brightness, the light intensity in lumen per square meter was originally a continuous variable, ranging from low to high levels of brightness. For easier interpretation of the data, we categorized brightness into distinct levels (e.g., low, medium, high).\n",
    "\n",
    "- LOW: Less than 300 lx\n",
    "- MEDIUM: Between 300 lx and 750 lx\n",
    "- HIGH: Greater than 750 lx"
   ]
  },
  {
   "cell_type": "code",
   "execution_count": 7,
   "id": "aeea96a1",
   "metadata": {},
   "outputs": [],
   "source": [
    "def dv_to_binary(df, dv):\n",
    "    df[dv] = df[dv].apply(lambda x: 0 if x <=0 else 1) \n",
    "    \n",
    "def brightness_to_categorical(df):\n",
    "    \n",
    "    def categorize_brightness(brightness):\n",
    "        if brightness < 300:\n",
    "            return 'LOW'\n",
    "        elif 300 <= brightness <= 750:\n",
    "            return 'MEDIUM'\n",
    "        else:\n",
    "            return 'HIGH'\n",
    "        \n",
    "    df = df[\"brightness\"].apply(categorize_brightness)\n",
    "    return df\n",
    "    "
   ]
  },
  {
   "cell_type": "markdown",
   "id": "0651deab",
   "metadata": {},
   "source": [
    "### Manipulation and merging"
   ]
  },
  {
   "cell_type": "code",
   "execution_count": 8,
   "id": "a44ba6b1",
   "metadata": {},
   "outputs": [],
   "source": [
    "P = {} # Dictionary that'll contain all participant data\n",
    "\n",
    "# get in situ data and turn it to TimeSeries \n",
    "dvs = [\"stress\", \"valence\",\"arousal\",\"attention\"]\n",
    "esm_df = df_to_timeseries(pd.read_csv(esm_path),timestamp_col=\"responseTime\")[dvs + [\"pcode\"]]\n",
    "for dv in dvs:\n",
    "    dv_to_binary(esm_df, dv)\n",
    "\n",
    "for p_code in os.listdir(data_dir):\n",
    "    if p_code.startswith(\"P\"): # Only get Participant Directories\n",
    "        pn = int(p_code[1:])\n",
    "        \n",
    "        # get tables (and columns) of interest and turn them to TimeSeries\n",
    "        \n",
    "        # AppUsageEvent\n",
    "        app_df=df_to_timeseries(pd.read_csv(os.path.join(data_dir,p_code,\"AppUsageEvent.csv\")))[[\"name\",\"category\"]]\n",
    "        # apply the function to update the app_category column\n",
    "        app_df[\"category\"] = app_df.apply(map_entertainment_to_new_category, axis=1)\n",
    "        # filter for entertainment related apps only\n",
    "        app_df = app_df[app_df[\"category\"].isin(entertainment_categories)] \n",
    "        \n",
    "        # AmbienLight\n",
    "        amb_df = df_to_timeseries(pd.read_csv(os.path.join(data_dir,p_code, \"AmbientLight.csv\")))\n",
    "        # apply brightness_to_categorical\n",
    "        amb_df = brightness_to_categorical(amb_df)\n",
    "        \n",
    "        # Location\n",
    "        loc_df = df_to_timeseries(pd.read_csv(os.path.join(data_dir,p_code, \"Location.csv\")))\n",
    "        loc_df = loc_df[loc_df[\"accuracy\"] < 20][[\"longitude\",\"latitude\"]] # remove innacurate readings\n",
    "        \n",
    "        # merge using merge_asof (we match on nearest timestamp rather than equal timestamps)\n",
    "        joined_df = pd.merge_asof(app_df, amb_df, left_index=True,right_index=True)\n",
    "        joined_df = pd.merge_asof(joined_df, loc_df, left_index=True,right_index=True)\n",
    "        #joined_df.columns = column_names\n",
    "        \n",
    "        # calculate distance from determined home\n",
    "        home_longitude, home_latitude = get_home_coor(amb_df,loc_df)\n",
    "        distances = haversine(joined_df['longitude'], joined_df['latitude'], home_longitude, home_latitude)\n",
    "        joined_df[\"at_home\"] = distances <= 25\n",
    "        \n",
    "        \n",
    "        final_df=pd.merge_asof(joined_df, esm_df[esm_df[\"pcode\"] == p_code], left_index=True,right_index=True)\n",
    "        P[pn] = final_df.drop([\"longitude\", \"latitude\"],axis=1)\n",
    "\n"
   ]
  },
  {
   "cell_type": "markdown",
   "id": "95f01f50",
   "metadata": {},
   "source": [
    "### Saving preprocessed data"
   ]
  },
  {
   "cell_type": "code",
   "execution_count": 9,
   "id": "650268c9",
   "metadata": {},
   "outputs": [],
   "source": [
    "# all data        \n",
    "df = pd.concat(P.values(), axis = 0).dropna()\n",
    "df.to_csv(os.path.join(\"clean_data\", \"final_data.csv\"))"
   ]
  }
 ],
 "metadata": {
  "kernelspec": {
   "display_name": "Python 3 (ipykernel)",
   "language": "python",
   "name": "python3"
  },
  "language_info": {
   "codemirror_mode": {
    "name": "ipython",
    "version": 3
   },
   "file_extension": ".py",
   "mimetype": "text/x-python",
   "name": "python",
   "nbconvert_exporter": "python",
   "pygments_lexer": "ipython3",
   "version": "3.10.6"
  },
  "toc": {
   "base_numbering": 1,
   "nav_menu": {},
   "number_sections": true,
   "sideBar": true,
   "skip_h1_title": false,
   "title_cell": "Table of Contents",
   "title_sidebar": "Contents",
   "toc_cell": false,
   "toc_position": {},
   "toc_section_display": true,
   "toc_window_display": false
  }
 },
 "nbformat": 4,
 "nbformat_minor": 5
}
